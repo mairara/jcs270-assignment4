{
  "nbformat": 4,
  "nbformat_minor": 0,
  "metadata": {
    "colab": {
      "provenance": [],
      "include_colab_link": true
    },
    "kernelspec": {
      "name": "python3",
      "display_name": "Python 3"
    },
    "language_info": {
      "name": "python"
    }
  },
  "cells": [
    {
      "cell_type": "markdown",
      "metadata": {
        "id": "view-in-github",
        "colab_type": "text"
      },
      "source": [
        "<a href=\"https://colab.research.google.com/github/mairara/jcs270-assignment4/blob/maira/Assignment4.ipynb\" target=\"_parent\"><img src=\"https://colab.research.google.com/assets/colab-badge.svg\" alt=\"Open In Colab\"/></a>"
      ]
    },
    {
      "cell_type": "markdown",
      "source": [
        "# Part 1"
      ],
      "metadata": {
        "id": "DSePJst1EXWw"
      }
    },
    {
      "cell_type": "code",
      "source": [
        "!wget \"https://raw.githubusercontent.com/mairara/jcs270-assignment4/main/Corona_NLP_test.csv\""
      ],
      "metadata": {
        "id": "w7-d1zXqWJBu",
        "colab": {
          "base_uri": "https://localhost:8080/"
        },
        "outputId": "ab2ecc1d-f10e-4a88-9dfc-94bd01ddbd9e"
      },
      "execution_count": null,
      "outputs": [
        {
          "output_type": "stream",
          "name": "stdout",
          "text": [
            "--2025-03-16 19:18:06--  https://raw.githubusercontent.com/mairara/jcs270-assignment4/main/Corona_NLP_test.csv\n",
            "Resolving raw.githubusercontent.com (raw.githubusercontent.com)... 185.199.108.133, 185.199.111.133, 185.199.110.133, ...\n",
            "Connecting to raw.githubusercontent.com (raw.githubusercontent.com)|185.199.108.133|:443... connected.\n",
            "HTTP request sent, awaiting response... 200 OK\n",
            "Length: 1002494 (979K) [text/plain]\n",
            "Saving to: ‘Corona_NLP_test.csv’\n",
            "\n",
            "Corona_NLP_test.csv 100%[===================>] 979.00K  --.-KB/s    in 0.06s   \n",
            "\n",
            "2025-03-16 19:18:06 (15.9 MB/s) - ‘Corona_NLP_test.csv’ saved [1002494/1002494]\n",
            "\n"
          ]
        }
      ]
    },
    {
      "cell_type": "code",
      "source": [
        "!wget \"https://raw.githubusercontent.com/mairara/jcs270-assignment4/main/Corona_NLP_train.csv\""
      ],
      "metadata": {
        "id": "HGPhdz77ZJ7C",
        "outputId": "131cdad6-a2a0-41ab-f561-93f603fe65fa",
        "colab": {
          "base_uri": "https://localhost:8080/"
        }
      },
      "execution_count": null,
      "outputs": [
        {
          "output_type": "stream",
          "name": "stdout",
          "text": [
            "--2025-03-16 19:18:33--  https://raw.githubusercontent.com/mairara/jcs270-assignment4/main/Corona_NLP_train.csv\n",
            "Resolving raw.githubusercontent.com (raw.githubusercontent.com)... 185.199.108.133, 185.199.109.133, 185.199.110.133, ...\n",
            "Connecting to raw.githubusercontent.com (raw.githubusercontent.com)|185.199.108.133|:443... connected.\n",
            "HTTP request sent, awaiting response... 200 OK\n",
            "Length: 10500262 (10M) [text/plain]\n",
            "Saving to: ‘Corona_NLP_train.csv’\n",
            "\n",
            "Corona_NLP_train.cs 100%[===================>]  10.01M  --.-KB/s    in 0.1s    \n",
            "\n",
            "2025-03-16 19:18:34 (83.9 MB/s) - ‘Corona_NLP_train.csv’ saved [10500262/10500262]\n",
            "\n"
          ]
        }
      ]
    },
    {
      "cell_type": "code",
      "source": [
        "adsfasdfasdfdfase"
      ],
      "metadata": {
        "id": "84rRgYuDaEzh"
      },
      "execution_count": null,
      "outputs": []
    },
    {
      "cell_type": "markdown",
      "source": [
        "# Part 2"
      ],
      "metadata": {
        "id": "mekOXewpEY9B"
      }
    }
  ]
}